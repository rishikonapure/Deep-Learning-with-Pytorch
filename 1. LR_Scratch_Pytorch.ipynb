{
  "nbformat": 4,
  "nbformat_minor": 0,
  "metadata": {
    "colab": {
      "name": "LR_Scratch Pytorch.ipynb",
      "provenance": [],
      "collapsed_sections": []
    },
    "kernelspec": {
      "name": "python3",
      "display_name": "Python 3"
    },
    "language_info": {
      "name": "python"
    }
  },
  "cells": [
    {
      "cell_type": "markdown",
      "source": [
        "## Linear Regression from Scratch : Pytorch"
      ],
      "metadata": {
        "id": "lrltr9X8zgKv"
      }
    },
    {
      "cell_type": "markdown",
      "source": [
        "- Regression refers to a set of methods for modeling the relationship between one or more independent variables and a dependent variable.\n",
        "\n",
        "- The purpose of regression is most often to characterize the relationship between the inputs and outputs.\n",
        "\n",
        "- Regression problems pop up whenever we want to predict a numerical value. Comman examples: predicting price(home,stock),demand forecasting."
      ],
      "metadata": {
        "id": "NkctaZdKzppc"
      }
    },
    {
      "cell_type": "markdown",
      "source": [
        "### Elements of linear Regression\n",
        "\n",
        "- First, we assume that the relationship between the independent variables x and the dependent variable y is linear.\n",
        "- i.e. it  can be expressed as a weighted sum of x the elements in , given some noise on the observations.\n",
        "\n",
        "- Example, Suppose that we wish to estimate the prices of houses (in dollars) based on their area (in square feet) and age (in years). To actually develop a model for predicting house prices, we would need to get our hands on a dataset consisting of sales for which we know the sale price, area, and age for each home.\n",
        "\n",
        "## 1. Linear Model : \n",
        "\n",
        "The linearity assumption just says that the target (price) can be expressed as a weighted sum of the features (area and age)\n",
        "\n",
        "`price = W(area) x area + W(age) x age + b`\n",
        "\n",
        "W(area) and W(age) are weights, b is bias(offset or intercept)\n",
        "\n",
        "- The weights determine the influence of each feature on our prediction and the bias just says what value the predicted price should take when all of the features take value 0. \n",
        "\n",
        "- Even if we will never see any homes with zero area, or that are precisely zero years old, we still need the bias or else we will limit the expressivity of our model.\n",
        "\n",
        "- Our goal is to choose the weights `W` and the bias `b` such that on average, the predictions made according to our model best fit the true prices observed in the data.\n",
        "\n",
        "In machine learning, we usually work with high-dimensional datasets, so it is more convenient to employ linear algebra notation.\n",
        "\n",
        "When our inputs consist of d features, we express our prediction y^.\n",
        "\n",
        "\n",
        "![image.png](data:image/png;base64,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)\n",
        "\n",
        "## 2. Loss Function : \n",
        "\n",
        "- Before we start thinking about how to fit data with our model, we need to determine a measure of fitness. The loss function quantifies the distance between the real and predicted value of the target.\n",
        "\n",
        "- The loss will usually be a non-negative number where smaller values are better and perfect predictions incur a loss of 0. \n",
        "\n",
        "- The most popular loss function in regression problems is the squared error. SSR\n",
        "\n",
        "## 3. Minibatch SGD \n",
        "\n",
        "- The key technique for optimizing nearly any deep learning model,consists of iteratively reducing the error by updating the parameters in the direction that incrementally lowers the loss function. This algorithm is called `gradient descent`.\n",
        "\n",
        "- The most naive application of gradient descent consists of taking the derivative of the loss function, which is an average of the losses computed on every single example in the dataset.\n",
        "\n",
        "- In practice, this can be extremely slow: we must pass over the entire dataset before making a single update.\n",
        "\n",
        "### minibatch stochastic gradient descent : \n",
        "\n",
        "In each iteration, we first randomly sample a minibatch `B` consisting of a fixed number of training examples. We then compute the derivative (gradient) of the average loss on the minibatch with regard to the model parameters. Finally, we multiply the gradient by a predetermined positive value `eta` and subtract the resulting term from the current parameter values.\n",
        "\n",
        "To summarize, steps of the algorithm are the following: \n",
        "\n",
        "- (i) we initialize the values of the model parameters, typically at random; \n",
        "- (ii) we iteratively sample random minibatches from the data, updating the parameters in the direction of the negative gradient.\n",
        "\n",
        "\n",
        "### Making Predictions with the learned model \n",
        "\n",
        "Given the learned linear regression model, we can now estimate the price of a new house (not contained in the training data) given its area x1 and age x2. Estimating targets given features is commonly called prediction or inference.\n",
        "\n",
        "\n",
        "\n",
        "\n",
        "\n",
        "\n"
      ],
      "metadata": {
        "id": "dNilQ8VE2jA9"
      }
    },
    {
      "cell_type": "markdown",
      "source": [
        "## Vectorization for speed \n",
        "\n",
        "When training our models, we typically want to process whole minibatches of examples simultaneously. Doing this efficiently requires that we vectorize the calculations and leverage fast linear algebra libraries rather than writing costly for-loops in Python."
      ],
      "metadata": {
        "id": "oNY-UpDTAwO-"
      }
    },
    {
      "cell_type": "code",
      "source": [
        "import math\n",
        "import time\n",
        "import numpy as np\n",
        "import torch\n",
        "import random"
      ],
      "metadata": {
        "id": "YbfKmsmKzelm"
      },
      "execution_count": 7,
      "outputs": []
    },
    {
      "cell_type": "markdown",
      "source": [
        "To illustrate why this matters so much, we can consider two methods for adding vectors. To start we instantiate two 10000-dimensional vectors containing all ones. In one method we will loop over the vectors with a Python for-loop. In the other method we will rely on a single call to +."
      ],
      "metadata": {
        "id": "Y9sZda7SBBhq"
      }
    },
    {
      "cell_type": "code",
      "source": [
        "n = 10000\n",
        "a = torch.ones(n)\n",
        "b = torch.ones(n)"
      ],
      "metadata": {
        "id": "i7QXms3MA6WM"
      },
      "execution_count": 2,
      "outputs": []
    },
    {
      "cell_type": "code",
      "source": [
        "class Timer:\n",
        "    \"\"\"Record multiple running times.\"\"\"\n",
        "    def __init__(self):\n",
        "        self.times = []\n",
        "        self.start()\n",
        "\n",
        "    def start(self):\n",
        "        \"\"\"Start the timer.\"\"\"\n",
        "        self.tik = time.time()\n",
        "\n",
        "    def stop(self):\n",
        "        \"\"\"Stop the timer and record the time in a list.\"\"\"\n",
        "        self.times.append(time.time() - self.tik)\n",
        "        return self.times[-1]\n",
        "\n",
        "    def avg(self):\n",
        "        \"\"\"Return the average time.\"\"\"\n",
        "        return sum(self.times) / len(self.times)\n",
        "\n",
        "    def sum(self):\n",
        "        \"\"\"Return the sum of time.\"\"\"\n",
        "        return sum(self.times)\n",
        "\n",
        "    def cumsum(self):\n",
        "        \"\"\"Return the accumulated time.\"\"\"\n",
        "        return np.array(self.times).cumsum().tolist()\n"
      ],
      "metadata": {
        "id": "qrbAnq2TBEcg"
      },
      "execution_count": 3,
      "outputs": []
    },
    {
      "cell_type": "markdown",
      "source": [
        "Now we can benchmark the workloads. First, we add them, one coordinate at a time, using a for-loop."
      ],
      "metadata": {
        "id": "tBaGi8fFBQPX"
      }
    },
    {
      "cell_type": "code",
      "source": [
        "c = torch.zeros(n)\n",
        "timer = Timer()\n",
        "for i in range(n):\n",
        "    c[i] = a[i] + b[i]\n",
        "f'{timer.stop():.5f} sec'"
      ],
      "metadata": {
        "colab": {
          "base_uri": "https://localhost:8080/",
          "height": 37
        },
        "id": "_yL6bTuBBQkp",
        "outputId": "51b474df-14b2-42cb-fc7b-ee3319396126"
      },
      "execution_count": 4,
      "outputs": [
        {
          "output_type": "execute_result",
          "data": {
            "text/plain": [
              "'0.09873 sec'"
            ],
            "application/vnd.google.colaboratory.intrinsic+json": {
              "type": "string"
            }
          },
          "metadata": {},
          "execution_count": 4
        }
      ]
    },
    {
      "cell_type": "markdown",
      "source": [
        "Alternatively, we rely on the reloaded + operator to compute the elementwise sum."
      ],
      "metadata": {
        "id": "cGeJ61lYBWAP"
      }
    },
    {
      "cell_type": "code",
      "source": [
        "timer.start()\n",
        "d = a + b\n",
        "f'{timer.stop():.5f} sec'"
      ],
      "metadata": {
        "colab": {
          "base_uri": "https://localhost:8080/",
          "height": 37
        },
        "id": "YHUR-qBlBTiC",
        "outputId": "b5b47e08-1935-47a3-a0da-f349430ec691"
      },
      "execution_count": 5,
      "outputs": [
        {
          "output_type": "execute_result",
          "data": {
            "text/plain": [
              "'0.00133 sec'"
            ],
            "application/vnd.google.colaboratory.intrinsic+json": {
              "type": "string"
            }
          },
          "metadata": {},
          "execution_count": 5
        }
      ]
    },
    {
      "cell_type": "markdown",
      "source": [
        "You probably noticed that the second method is dramatically faster than the first."
      ],
      "metadata": {
        "id": "lAMunciqBbQn"
      }
    },
    {
      "cell_type": "markdown",
      "source": [
        "The normal distribution and linear regression runs really well so, The probability density of a normal distribution with mean  and variance  (standard deviation ) is given as : \n",
        "\n",
        "![image.png](data:image/png;base64,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)\n",
        "\n"
      ],
      "metadata": {
        "id": "Mi0Wct3TB9zj"
      }
    },
    {
      "cell_type": "code",
      "source": [
        "def normal(x, mu, sigma):\n",
        "    p = 1 / math.sqrt(2 * math.pi * sigma**2)\n",
        "    return p * np.exp(-0.5 / sigma**2 * (x - mu)**2)"
      ],
      "metadata": {
        "id": "4lyCkyxmBX4x"
      },
      "execution_count": 6,
      "outputs": []
    },
    {
      "cell_type": "markdown",
      "source": [
        "## Implementation from scratch"
      ],
      "metadata": {
        "id": "jiQocLMgCe-9"
      }
    },
    {
      "cell_type": "code",
      "source": [
        "# generating synthetic data \n",
        "\n",
        "def synthetic_data(w, b, num_examples):\n",
        "    \"\"\"Generate y = Xw + b + noise.\"\"\"\n",
        "    X = torch.normal(0, 1, (num_examples, len(w)))\n",
        "    y = torch.matmul(X, w) + b\n",
        "    y += torch.normal(0, 0.01, y.shape)\n",
        "    return X, y.reshape((-1, 1))\n",
        "\n",
        "true_w = torch.tensor([2, -3.4])\n",
        "true_b = 4.2\n",
        "features, labels = synthetic_data(true_w, true_b, 1000)"
      ],
      "metadata": {
        "id": "oeKSi2mFCXb6"
      },
      "execution_count": 8,
      "outputs": []
    },
    {
      "cell_type": "markdown",
      "source": [
        "Note that each row in features consists of a 2-dimensional data example and that each row in labels consists of a 1-dimensional label value (a scalar)."
      ],
      "metadata": {
        "id": "2qcD7SCYDANG"
      }
    },
    {
      "cell_type": "code",
      "source": [
        "print('features:', features[0],'\\nlabel:', labels[0])"
      ],
      "metadata": {
        "colab": {
          "base_uri": "https://localhost:8080/"
        },
        "id": "gXkZaeqPDAi9",
        "outputId": "795bcbe1-b714-4f5e-d380-517631af333f"
      },
      "execution_count": 9,
      "outputs": [
        {
          "output_type": "stream",
          "name": "stdout",
          "text": [
            "features: tensor([0.9585, 1.0293]) \n",
            "label: tensor([2.6068])\n"
          ]
        }
      ]
    },
    {
      "cell_type": "markdown",
      "source": [
        "### Reading the Dataset"
      ],
      "metadata": {
        "id": "KZYfoJpbDOF5"
      }
    },
    {
      "cell_type": "code",
      "source": [
        "def data_iter(batch_size, features, labels):\n",
        "    num_examples = len(features)\n",
        "    indices = list(range(num_examples))\n",
        "    # The examples are read at random, in no particular order\n",
        "    random.shuffle(indices)\n",
        "    for i in range(0, num_examples, batch_size):\n",
        "        batch_indices = torch.tensor(\n",
        "            indices[i: min(i + batch_size, num_examples)])\n",
        "        yield features[batch_indices], labels[batch_indices]"
      ],
      "metadata": {
        "id": "d-nPCfjbDCFB"
      },
      "execution_count": 10,
      "outputs": []
    },
    {
      "cell_type": "code",
      "source": [
        "batch_size = 10\n",
        "\n",
        "for X, y in data_iter(batch_size, features, labels):\n",
        "    print(X, '\\n', y)\n",
        "    break"
      ],
      "metadata": {
        "colab": {
          "base_uri": "https://localhost:8080/"
        },
        "id": "cqieSa7yEZeE",
        "outputId": "71b28e8d-0ca0-4d4b-91fd-055dd97724f1"
      },
      "execution_count": 11,
      "outputs": [
        {
          "output_type": "stream",
          "name": "stdout",
          "text": [
            "tensor([[ 0.3457, -1.3405],\n",
            "        [ 0.6263,  0.4578],\n",
            "        [ 1.0105, -0.7020],\n",
            "        [ 0.2119, -1.1383],\n",
            "        [-1.0163, -0.8974],\n",
            "        [-1.3073, -1.5251],\n",
            "        [-1.7682,  0.1358],\n",
            "        [-0.3390,  0.7889],\n",
            "        [ 0.5115, -0.6481],\n",
            "        [-0.4468,  1.0233]]) \n",
            " tensor([[ 9.4402],\n",
            "        [ 3.8919],\n",
            "        [ 8.6070],\n",
            "        [ 8.4819],\n",
            "        [ 5.2301],\n",
            "        [ 6.7788],\n",
            "        [ 0.1830],\n",
            "        [ 0.8391],\n",
            "        [ 7.4289],\n",
            "        [-0.1821]])\n"
          ]
        }
      ]
    },
    {
      "cell_type": "markdown",
      "source": [
        "### inintialize model parametrs \n",
        "\n",
        "Before we can begin optimizing our model’s parameters by minibatch stochastic gradient descent, we need to have some parameters in the first place. In the following code, we initialize weights by sampling random numbers from a normal distribution with mean 0 and a standard deviation of 0.01, and setting the bias to 0."
      ],
      "metadata": {
        "id": "gouO7Ko_Ei6V"
      }
    },
    {
      "cell_type": "code",
      "source": [
        "w = torch.normal(0, 0.01, size=(2,1), requires_grad=True)\n",
        "b = torch.zeros(1, requires_grad=True)"
      ],
      "metadata": {
        "id": "n66ab9cQEcF4"
      },
      "execution_count": 12,
      "outputs": []
    },
    {
      "cell_type": "markdown",
      "source": [
        "After initializing our parameters, our next task is to update them until they fit our data sufficiently well. Each update requires taking the gradient of our loss function with respect to the parameters. Given this gradient, we can update each parameter in the direction that may reduce the loss."
      ],
      "metadata": {
        "id": "mn-NKGjhE2sU"
      }
    },
    {
      "cell_type": "markdown",
      "source": [
        "## Defining a model : \n"
      ],
      "metadata": {
        "id": "QvCjMIIPE505"
      }
    },
    {
      "cell_type": "code",
      "source": [
        "def linreg(X, w, b):\n",
        "    return torch.matmul(X, w) + b"
      ],
      "metadata": {
        "id": "VDU6trVPEx99"
      },
      "execution_count": 13,
      "outputs": []
    },
    {
      "cell_type": "markdown",
      "source": [
        "Since updating our model requires taking the gradient of our loss function, we ought to define the loss function first.\n",
        "\n",
        "We need to transform the true value y into the predicted value’s shape y_hat. The result returned by the following function will also have the same shape as y_hat."
      ],
      "metadata": {
        "id": "kGiCLWavFNgI"
      }
    },
    {
      "cell_type": "markdown",
      "source": [
        "## Defining the loss function"
      ],
      "metadata": {
        "id": "1A2Rzz3aFGeX"
      }
    },
    {
      "cell_type": "code",
      "source": [
        "def squared_loss(y_hat, y):\n",
        "    return (y_hat - y.reshape(y_hat.shape)) ** 2 / 2"
      ],
      "metadata": {
        "id": "1kBGlRyZFIg2"
      },
      "execution_count": 14,
      "outputs": []
    },
    {
      "cell_type": "markdown",
      "source": [
        ""
      ],
      "metadata": {
        "id": "bHcUT_UOIkmV"
      }
    },
    {
      "cell_type": "markdown",
      "source": [
        "## Defining optimization Algirithm\n",
        "\n",
        "At each step, using one minibatch randomly drawn from our dataset, we will estimate the gradient of the loss with respect to our parameters. Next, we will update our parameters in the direction that may reduce the loss.\n",
        "\n",
        "The following code applies the minibatch stochastic gradient descent update, given a set of parameters, a learning rate, and a batch size.\n",
        "\n"
      ],
      "metadata": {
        "id": "MOj4tzgxIe6F"
      }
    },
    {
      "cell_type": "code",
      "source": [
        "def sgd(params, lr, batch_size):\n",
        "    \"\"\"Minibatch stochastic gradient descent.\"\"\"\n",
        "    with torch.no_grad():\n",
        "        for param in params:\n",
        "            param -= lr * param.grad / batch_size\n",
        "            param.grad.zero_()"
      ],
      "metadata": {
        "id": "L2wJB0UEFpND"
      },
      "execution_count": 15,
      "outputs": []
    },
    {
      "cell_type": "markdown",
      "source": [
        "## Training : \n",
        "\n",
        "- Now that we have all of the parts in place, we are ready to implement the main training loop.\n",
        "\n",
        "- In each iteration, we will grab a minibatch of training examples, and pass them through our model to obtain a set of predictions. \n",
        "\n",
        "- After calculating the loss, we initiate the backwards pass through the network, storing the gradients with respect to each parameter.\n",
        "\n",
        "- Finally, we will call the optimization algorithm sgd to update the model parameters.\n",
        "\n",
        "- In each epoch, we will iterate through the entire dataset (using the data_iter function) once passing through every example in the training dataset (assuming that the number of examples is divisible by the batch size).\n",
        "\n",
        "- The number of epochs num_epochs and the learning rate lr are both hyperparameters, which we set here to 3 and 0.03, respectively. Unfortunately, setting hyperparameters is tricky and requires some adjustment by trial and error."
      ],
      "metadata": {
        "id": "Au_VbYtHR0xN"
      }
    },
    {
      "cell_type": "code",
      "source": [
        "lr = 0.03\n",
        "num_epochs = 3\n",
        "net = linreg\n",
        "loss = squared_loss\n",
        "\n",
        "for epoch in range(num_epochs):\n",
        "    for X, y in data_iter(batch_size, features, labels):\n",
        "        l = loss(net(X, w, b), y)  # Minibatch loss in `X` and `y`\n",
        "        # Compute gradient on `l` with respect to [`w`, `b`]\n",
        "        l.sum().backward()\n",
        "        sgd([w, b], lr, batch_size)  # Update parameters using their gradient\n",
        "    with torch.no_grad():\n",
        "        train_l = loss(net(features, w, b), labels)\n",
        "        print(f'epoch {epoch + 1}, loss {float(train_l.mean()):f}')"
      ],
      "metadata": {
        "colab": {
          "base_uri": "https://localhost:8080/"
        },
        "id": "GKMaN7dPRy1z",
        "outputId": "1f330aaf-d7b4-4f6d-c328-a30cbf3798d1"
      },
      "execution_count": 16,
      "outputs": [
        {
          "output_type": "stream",
          "name": "stdout",
          "text": [
            "epoch 1, loss 0.033319\n",
            "epoch 2, loss 0.000115\n",
            "epoch 3, loss 0.000048\n"
          ]
        }
      ]
    },
    {
      "cell_type": "markdown",
      "source": [
        "In this case, because we synthesized the dataset ourselves, we know precisely what the true parameters are. Thus, we can evaluate our success in training by comparing the true parameters with those that we learned through our training loop. Indeed they turn out to be very close to each other."
      ],
      "metadata": {
        "id": "J7apRQzqSm9p"
      }
    },
    {
      "cell_type": "markdown",
      "source": [
        "## Summary :\n",
        "We saw how a deep network can be implemented and optimized from scratch, using just tensors and auto differentiation, without any need for defining layers or fancy optimizers."
      ],
      "metadata": {
        "id": "oKO3mQopTuQu"
      }
    },
    {
      "cell_type": "markdown",
      "source": [
        "# Exercise :\n",
        "\n",
        "1. What would happen if we were to initialize the weights to zero. Would the algorithm still work?\n",
        "\n",
        "2. Experiment using different learning rates to find out how fast the loss function value drops."
      ],
      "metadata": {
        "id": "zBSwEQooT1yc"
      }
    },
    {
      "cell_type": "code",
      "source": [
        ""
      ],
      "metadata": {
        "id": "6ckKchLESg3-"
      },
      "execution_count": null,
      "outputs": []
    }
  ]
}